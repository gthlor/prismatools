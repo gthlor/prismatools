{
 "cells": [
  {
   "cell_type": "markdown",
   "metadata": {},
   "source": [
    "### Reading and Exporting PRISMA Cube L2D data\n",
    "\n",
    "[![Open In Colab](https://colab.research.google.com/assets/colab-badge.svg)](https://colab.research.google.com/github/gthlor/prismatools/blob/main/docs/examples/01_reading_and_exporting_PRISMA_cube.ipynb)\n"
   ]
  },
  {
   "cell_type": "code",
   "execution_count": null,
   "metadata": {},
   "outputs": [],
   "source": [
    "# !pip install prismatools"
   ]
  },
  {
   "cell_type": "code",
   "execution_count": null,
   "metadata": {},
   "outputs": [],
   "source": [
    "# from prismatools.prisma import read_prismaL2D, write_prismaL2D, extract_prisma\n",
    "# import numpy as np\n",
    "# import matplotlib.pyplot as plt"
   ]
  },
  {
   "cell_type": "code",
   "execution_count": null,
   "metadata": {},
   "outputs": [],
   "source": [
    "# file = r\"..\\..\\data\\PRS_L2D_STD_20240429095823_20240429095827_0001.he5\"\n",
    "# ds = read_prismaL2D(file, wavelengths=None, method=\"nearest\", panchromatic=False)\n",
    "# ds"
   ]
  },
  {
   "cell_type": "code",
   "execution_count": null,
   "metadata": {},
   "outputs": [],
   "source": [
    "# res = extract_prisma(dataset=ds, lat=41.4468, lon=15.4646)\n",
    "# res"
   ]
  },
  {
   "cell_type": "code",
   "execution_count": null,
   "metadata": {},
   "outputs": [],
   "source": [
    "# write_prismaL2D(file, output=r'..\\..\\out_test\\imgTest.tif')"
   ]
  },
  {
   "cell_type": "code",
   "execution_count": null,
   "metadata": {},
   "outputs": [],
   "source": [
    "# debugging\n",
    "# if __name__ == \"__main__\":\n",
    "#     file = r\"C:/Users/loren/Desktop/PRS_L2D_STD_20240429095823_20240429095827_0001\\PRS_L2D_STD_20240429095823_20240429095827_0001.he5\"\n",
    "#     ds = read_prismaL2D(file, wavelengths=None, method=\"nearest\")\n",
    "#     print(ds)\n",
    "\n",
    "#     ds_pan = read_prismaL2D(file, panchromatic=True)\n",
    "#     print(ds_pan)\n",
    "\n",
    "#     # case1a: Pan from path (è necessario specificare se è pan o meno)\n",
    "#     write_prismaL2D(file, output=r'..\\out_test\\imgPan_path_pan.tif', panchromatic=True)\n",
    "#     # case1b: Cube from path\n",
    "#     write_prismaL2D(file, output=r'..\\out_test\\imgPan_path_cube.tif')\n",
    "\n",
    "#     # case2a: Pan from dataset\n",
    "#     write_prismaL2D(ds_pan, output=r'..\\out_test\\imgPan_ds.tif')\n",
    "#     # case2b: Cube from dataset\n",
    "#     write_prismaL2D(ds, output=r'..\\out_test\\imgCube_ds.tif')\n",
    "\n",
    "#     # case3 : Cube in ENVI format\n",
    "#     write_prismaL2D(file, output=r'..\\out_test\\imgCube_ds.dat', panchromatic=False)\n",
    "#     write_prismaL2D(file, output=r'..\\out_test\\imgPanc_ds.dat', panchromatic=True)"
   ]
  },
  {
   "cell_type": "markdown",
   "metadata": {},
   "source": [
    "##### 01. read PRISMA Cube"
   ]
  },
  {
   "cell_type": "code",
   "execution_count": null,
   "metadata": {},
   "outputs": [],
   "source": [
    "# file = r\"..\\..\\data\\PRS_L2D_STD_20240429095823_20240429095827_0001.he5\"\n",
    "# ds = read_prismaL2D(file, wavelengths=None, method=\"nearest\")\n",
    "# ds"
   ]
  },
  {
   "cell_type": "code",
   "execution_count": null,
   "metadata": {},
   "outputs": [],
   "source": [
    "# # plot PRISMA L2D cube\n",
    "# wavelengths = ds.wavelength.values\n",
    "# r_idx = np.abs(wavelengths - 660).argmin()\n",
    "# g_idx = np.abs(wavelengths - 560).argmin()\n",
    "# b_idx = np.abs(wavelengths - 490).argmin()\n",
    "\n",
    "# rgb = np.stack(\n",
    "#     [\n",
    "#         ds.reflectance.values[:, :, r_idx],\n",
    "#         ds.reflectance.values[:, :, g_idx],\n",
    "#         ds.reflectance.values[:, :, b_idx],\n",
    "#     ],\n",
    "#     axis=-1,\n",
    "# )\n",
    "\n",
    "# # rgb = np.clip(rgb, 0, 1)\n",
    "# rgb_stretch = (rgb - rgb.min()) / (rgb.max() - rgb.min())\n",
    "\n",
    "# plt.imshow(rgb_stretch)\n",
    "# plt.title(\"PRISMA RGB Composite\")\n",
    "# plt.xlabel(\"x\")\n",
    "# plt.ylabel(\"y\")\n",
    "# plt.show()"
   ]
  },
  {
   "cell_type": "markdown",
   "metadata": {},
   "source": [
    "##### 02. read panchromatic PRISMA Cube"
   ]
  },
  {
   "cell_type": "code",
   "execution_count": null,
   "metadata": {},
   "outputs": [],
   "source": [
    "# ds_pan = read_prismaL2D_pan(file)\n",
    "# ds_pan"
   ]
  },
  {
   "cell_type": "code",
   "execution_count": null,
   "metadata": {},
   "outputs": [],
   "source": [
    "# # Plot the panchromatic reflectance\n",
    "# plt.imshow(ds_pan.reflectance.values, cmap=\"gray\", vmin=0, vmax=1)\n",
    "# plt.title(\"PRISMA Panchromatic Reflectance\")\n",
    "# plt.xlabel(\"x\")\n",
    "# plt.ylabel(\"y\")\n",
    "# plt.colorbar(label=\"Reflectance\")\n",
    "# plt.show()"
   ]
  }
 ],
 "metadata": {
  "kernelspec": {
   "display_name": "prismatool",
   "language": "python",
   "name": "python3"
  },
  "language_info": {
   "codemirror_mode": {
    "name": "ipython",
    "version": 3
   },
   "file_extension": ".py",
   "mimetype": "text/x-python",
   "name": "python",
   "nbconvert_exporter": "python",
   "pygments_lexer": "ipython3",
   "version": "3.12.7"
  }
 },
 "nbformat": 4,
 "nbformat_minor": 2
}
