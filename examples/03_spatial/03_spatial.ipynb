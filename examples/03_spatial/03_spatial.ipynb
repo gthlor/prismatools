{
 "cells": [
  {
   "cell_type": "code",
   "execution_count": null,
   "id": "0",
   "metadata": {},
   "outputs": [],
   "source": [
    "from prismatools import read_prismaL2D\n",
    "from prismatools.spatial import band_math, pca_image"
   ]
  },
  {
   "cell_type": "markdown",
   "id": "1",
   "metadata": {},
   "source": [
    "##### Index computation"
   ]
  },
  {
   "cell_type": "code",
   "execution_count": null,
   "id": "2",
   "metadata": {},
   "outputs": [],
   "source": [
    "# filep = r\"..\\..\\data\\PRS_L2D_STD_20240429095823_20240429095827_0001.he5\"\n",
    "# ds = read_prismaL2D(file_path=filep)\n",
    "# print(ds)"
   ]
  },
  {
   "cell_type": "code",
   "execution_count": null,
   "id": "3",
   "metadata": {},
   "outputs": [],
   "source": [
    "# wavelength_dict = {'red': 660, 'green': 560, 'blue': 480, 'nir': 840}\n",
    "\n",
    "# expressions = {\n",
    "#      'NDVI' : '(nir - red) / (nir + red)',\n",
    "#      'GNDVI': '(nir - green) / (nir + green)',\n",
    "#      'EVI'  : '2.5 * (nir - red) / (nir + 6 * red - 7.5 * blue + 1)', # constant might be provided directly in the expression\n",
    "#      'SAVI' : '((nir - red) * (1 + L)) / (nir + red + L)'\n",
    "#  }\n",
    "# # or in dictionary\n",
    "# constants = {\n",
    "#     'L': 0.5,\n",
    "#     }\n",
    "\n",
    "# result = band_math(ds, expressions, wavelength_dict, constants, inplace=True)\n",
    "# print(result)"
   ]
  },
  {
   "cell_type": "code",
   "execution_count": null,
   "id": "4",
   "metadata": {},
   "outputs": [],
   "source": [
    "# # plotting\n",
    "# result[\"SAVI\"].plot(cmap='YlGn', vmin=0, vmax=1)\n",
    "\n",
    "# # exporting\n",
    "# indices = [v for v in result.data_vars if v != 'reflectance']\n",
    "# for index in indices:\n",
    "#     output_path = fr\"C:\\Users\\loren\\Desktop\\prismatools\\out_test\\{index}.tif\"\n",
    "#     result[index].rio.to_raster(output_path)"
   ]
  },
  {
   "cell_type": "markdown",
   "id": "5",
   "metadata": {},
   "source": [
    "##### PCA"
   ]
  },
  {
   "cell_type": "code",
   "execution_count": null,
   "id": "6",
   "metadata": {},
   "outputs": [],
   "source": [
    "# # da tiff\n",
    "# input = r\"C:\\Users\\loren\\Desktop\\prismatools\\out_test\\imgTest.tif\"\n",
    "# out = r\"C:\\Users\\loren\\Desktop\\prismatools\\out_test\\img_pca_daTIFF.tif\"\n",
    "# n_components = 10\n",
    "\n",
    "# ds_pca, expl_var = pca_image(input, out, n_components=n_components)\n",
    "# print(ds_pca)\n",
    "# print(expl_var)"
   ]
  },
  {
   "cell_type": "code",
   "execution_count": null,
   "id": "7",
   "metadata": {},
   "outputs": [],
   "source": [
    "# ds_pca[\"pca\"].sel(pc=2).plot(x=\"x\", y=\"y\")"
   ]
  }
 ],
 "metadata": {
  "kernelspec": {
   "display_name": "prismatool",
   "language": "python",
   "name": "python3"
  },
  "language_info": {
   "codemirror_mode": {
    "name": "ipython",
    "version": 3
   },
   "file_extension": ".py",
   "mimetype": "text/x-python",
   "name": "python",
   "nbconvert_exporter": "python",
   "pygments_lexer": "ipython3",
   "version": "3.12.7"
  }
 },
 "nbformat": 4,
 "nbformat_minor": 5
}
